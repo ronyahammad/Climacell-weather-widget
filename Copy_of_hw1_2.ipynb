{
  "cells": [
    {
      "cell_type": "markdown",
      "metadata": {
        "id": "view-in-github",
        "colab_type": "text"
      },
      "source": [
        "<a href=\"https://colab.research.google.com/github/ronyahammad/Climacell-weather-widget/blob/master/Copy_of_hw1_2.ipynb\" target=\"_parent\"><img src=\"https://colab.research.google.com/assets/colab-badge.svg\" alt=\"Open In Colab\"/></a>"
      ]
    },
    {
      "cell_type": "markdown",
      "id": "0c5e61e9-7780-41de-8a74-c946dd95d38a",
      "metadata": {
        "id": "0c5e61e9-7780-41de-8a74-c946dd95d38a"
      },
      "source": [
        "# Homework 1.2: Plotting an elephant (35 pts)\n",
        "\n",
        "In this problem, we will practice skills with manipulating Numpy arrays and making plots with a fun example.\n",
        "\n",
        "**a)** Read [this little gem of an article](https://doi.org/10.1038/427297a). It has a good lesson, but it is important to note, as you will learn if you take part (b) of this course, a model is not automatically invalid because it has a lot of parameters. More important is what the parameters are and to what physical quantities they relate. Nonetheless, it is often desirable to have simpler models for many reasons, including interpretability.\n",
        "\n",
        "**b)** Based on the anecdote about John von Neumann, [Mayer, Khairy, and Howard](https://doi.org/10.1119/1.3254017) worked out a scheme to draw an elephant with four complex parameters. The complex parameters are\n",
        "\n",
        "\\begin{align}\n",
        "&p_1 = -60 - 12 i,\\\\[1em]\n",
        "&p_2 = -30 + 14 i,\\\\[1em]\n",
        "&p_3 = 8 - 50 i,\\\\[1em]\n",
        "&p_4 = -10 - 18 i.\n",
        "\\end{align}\n",
        "\n",
        "For notational ease, let $r_j$ be the real part of parameter $j$ and $i_j$ by the imaginary part of parameter $j$. For example, $r_1 = -60$ and $i_3 = -50$.\n",
        "\n",
        "Using these parameters, Mayer, Khairy, and Howard worked out a parametric curve for the shape of an elephant based on a truncated Fourier series. You can write the $x$ and $y$ values of a smooth parametric curve as a Fourier series as\n",
        "\n",
        "\\begin{align}\n",
        "x(t) = A_{0,x} + \\sum_{k = 1}^\\infty A_{k,x} \\cos kt + \\sum_{k = 1}^\\infty B_{k,x} \\sin kt, \\\\[1em]\n",
        "y(t) = A_{0,y} + \\sum_{k = 1}^\\infty A_{k,y} \\cos kt + \\sum_{k = 1}^\\infty B_{k,y} \\sin kt,\n",
        "\\end{align}\n",
        "\n",
        "where $t$ ranges from zero to $2\\pi$. The Mayer, Khairy, and Howard worked out that you can get an elephant using\n",
        "\n",
        "\\begin{align}\n",
        "&A_{1,x} = r_1,\\;B_{1,x} = r_2, \\; B_{2,x} = r_3, \\; B_{3,x} = r_4,\\\\[1em]\n",
        "&A_{3,y} = i_1,\\;A_{5,y} = i_2, \\; B_{1,y} = i_3, \\; B_{2,y} = i_4,\n",
        "\\end{align}\n",
        "\n",
        "with all other Fourier coefficients being zero.\n",
        "\n",
        "Compute a smooth curve for an elephant using this formula and plot it. (This problem is not meant to teach you about Fourier series, but rather to practice creating and manipulating Numpy arrays and making plots.)\n",
        "\n",
        "**c)** For fun, you can make a little scene for your elephant by adding other glyphs to the plot. You can read Bokeh's documentation to learn about what you can do. You may wish to investigate patches and box annotations, among others. (This part of the problem is not graded.)\n"
      ]
    },
    {
      "cell_type": "code",
      "source": [
        "\n",
        "from matplotlib import animation\n",
        "import matplotlib.pyplot as plt\n",
        "from numpy import append, cos,  linspace, pi, sin, zeros\n",
        "\n",
        "\n",
        "p = [ -60 - 12j,\n",
        "      -30 + 14j,\n",
        "      8 - 50j,\n",
        "     10 - 18j] \n",
        "\n",
        "def fourier(t, A):\n",
        "    f = zeros(t.shape) \n",
        "    for k in range(len(A)):\n",
        "        f += A.real[k]*cos(k*t) + A.imag[k]*sin(k*t)\n",
        "    return f\n",
        "\n",
        "def elephant(t, p):\n",
        "    npar = 5\n",
        "    Ax = zeros((npar,), dtype='complex')\n",
        "    Ay = zeros((npar,), dtype='complex')\n",
        "\n",
        "    Ax[1] = p[0].real*1j\n",
        "    Ay[1] = p[3].imag + p[0].imag*1j\n",
        "\n",
        "    Ax[2] = p[1].real*1j\n",
        "    Ay[2] = p[1].imag*1j\n",
        "\n",
        "\n",
        "    Ax[4] = p[2].real\n",
        "\n",
        "\n",
        "    x =  append(fourier(t,Ay), [p[3].imag])\n",
        "    y = -append(fourier(t,Ax), [-p[3].imag])\n",
        "\n",
        "    return x,y\n",
        "\n",
        "x,y=elephant(linspace(0,2*pi,1000),p)\n",
        "plt.plot(y,-x,'.')\n",
        "plt.show()"
      ],
      "metadata": {
        "id": "XonecmH0t_4G",
        "colab": {
          "base_uri": "https://localhost:8080/",
          "height": 265
        },
        "outputId": "4740c1a4-b03e-4492-b50a-8f812e7a546d"
      },
      "id": "XonecmH0t_4G",
      "execution_count": 11,
      "outputs": [
        {
          "output_type": "display_data",
          "data": {
            "text/plain": [
              "<Figure size 432x288 with 1 Axes>"
            ],
            "image/png": "[encoded data removed]"
          },
          "metadata": {
            "needs_background": "light"
          }
        }
      ]
    },
    {
      "cell_type": "markdown",
      "id": "ef241587-1fd7-4ee1-b2ab-b0753362625e",
      "metadata": {
        "id": "ef241587-1fd7-4ee1-b2ab-b0753362625e"
      },
      "source": [
        "<br />"
      ]
    }
  ],
  "metadata": {
    "kernelspec": {
      "display_name": "Python 3 (ipykernel)",
      "language": "python",
      "name": "python3"
    },
    "language_info": {
      "codemirror_mode": {
        "name": "ipython",
        "version": 3
      },
      "file_extension": ".py",
      "mimetype": "text/x-python",
      "name": "python",
      "nbconvert_exporter": "python",
      "pygments_lexer": "ipython3",
      "version": "3.9.13"
    },
    "colab": {
      "provenance": [],
      "include_colab_link": true
    }
  },
  "nbformat": 4,
  "nbformat_minor": 5
}