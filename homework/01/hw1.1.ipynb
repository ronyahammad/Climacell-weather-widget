{
  "cells": [
    {
      "cell_type": "markdown",
      "metadata": {
        "id": "view-in-github",
        "colab_type": "text"
      },
      "source": [
        "<a href=\"https://colab.research.google.com/github/ronyahammad/Climacell-weather-widget/blob/master/homework/01/hw1.1.ipynb\" target=\"_parent\"><img src=\"https://colab.research.google.com/assets/colab-badge.svg\" alt=\"Open In Colab\"/></a>"
      ]
    },
    {
      "cell_type": "markdown",
      "metadata": {
        "id": "Ovr78bWIYARN"
      },
      "source": [
        "# Homework 1.1: Your goals (15 pts)\n",
        "\n",
        "* Write down your goals for the class.\n",
        "* In what context do you expect to use the skills you learn in this class in the future?\n",
        "* Are there specific techniques you would like to learn? Is there something that has been confusing for you that you would like cleared up?\n",
        "\n",
        "Each member of your team should write their own response in a Markdown cell (and identify who each response belongs to), but the responses should be turned in together. These goals are not meant to be private; it is useful for all teammates to know what each other are striving for."
      ]
    },
    {
      "cell_type": "code",
      "source": [
        "print(\"My goal is to learn machine learning\")\n",
        "print(\"In web development, customers can easilty be helped choose their own product or in new paper, readers can find their own archives or editorial columns. In games, players' habitual moves can be predicted. besides there are lot more ways to implement such tecnics.\")\n",
        "print(\"i want to know about the accuracy of prediction depending on regressive or bayesian patterns. how to make it more accurate and how can it be used future random acts are my main intrest\")"
      ],
      "metadata": {
        "id": "zR6JrjHNYB3_",
        "outputId": "628bd4a6-043b-4a71-a17a-6fe776ed221c",
        "colab": {
          "base_uri": "https://localhost:8080/"
        }
      },
      "execution_count": 3,
      "outputs": [
        {
          "output_type": "stream",
          "name": "stdout",
          "text": [
            "My goal is to learn machine learning\n",
            "In web development, customers can easilty be helped choose their own product or in new paper, readers can find their own archives or editorial columns. In games, players' habitual moves can be predicted. besides there are lot more ways to implement such tecnics.\n",
            "i want to know about the accuracy of prediction depending on regressive or bayesian patterns. how to make it more accurate and how can it be used future random acts are my main intrest\n"
          ]
        }
      ]
    },
    {
      "cell_type": "markdown",
      "metadata": {
        "id": "-XFAP6fkYARS"
      },
      "source": [
        "<br />"
      ]
    }
  ],
  "metadata": {
    "anaconda-cloud": {},
    "kernelspec": {
      "display_name": "Python 3 (ipykernel)",
      "language": "python",
      "name": "python3"
    },
    "language_info": {
      "codemirror_mode": {
        "name": "ipython",
        "version": 3
      },
      "file_extension": ".py",
      "mimetype": "text/x-python",
      "name": "python",
      "nbconvert_exporter": "python",
      "pygments_lexer": "ipython3",
      "version": "3.9.13"
    },
    "colab": {
      "provenance": [],
      "include_colab_link": true
    }
  },
  "nbformat": 4,
  "nbformat_minor": 0
}